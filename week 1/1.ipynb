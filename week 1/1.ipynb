{
 "cells": [
  {
   "cell_type": "markdown",
   "id": "impressive-steam",
   "metadata": {},
   "source": [
    "**1.1.14** <br>\n",
    "Напишите регулярное выражение, которое выделит в тексте только дробные числа (но не целые!)."
   ]
  },
  {
   "cell_type": "code",
   "execution_count": 1,
   "id": "hungry-casting",
   "metadata": {},
   "outputs": [],
   "source": [
    "import re\n",
    "import sys\n",
    "\n",
    "\n",
    "EVEN_NUMBERS_REGEX = re.compile(r'[0-9]+[.][0-9]+')\n",
    "\n",
    "for line in sys.stdin:\n",
    "    all_even_numbers = EVEN_NUMBERS_REGEX.findall(line.strip())\n",
    "    print(' '.join(all_even_numbers))"
   ]
  },
  {
   "cell_type": "markdown",
   "id": "beginning-questionnaire",
   "metadata": {},
   "source": [
    "**1.5.3** <br>\n",
    "Дано несколько текстов. Преобразуйте их в бинарные вектора."
   ]
  },
  {
   "cell_type": "code",
   "execution_count": 2,
   "id": "medium-lending",
   "metadata": {},
   "outputs": [
    {
     "name": "stdout",
     "output_type": "stream",
     "text": [
      "[1, 0, 1, 0, 0, 1]\n",
      "[1, 0, 1, 0, 0, 1]\n",
      "[0, 1, 1, 0, 0, 1]\n",
      "[0, 0, 0, 1, 1, 0]\n"
     ]
    }
   ],
   "source": [
    "import re\n",
    "\n",
    "\n",
    "preprocess = 'казнить не нельзя обязательно освободить помиловать'\n",
    "bag_of_words = preprocess.split(' ')\n",
    "\n",
    "\n",
    "def get_array_from_text(sentence):\n",
    "    exit_array = []\n",
    "    opt = re.sub(r'[^\\w\\s]','', sentence).lower() \n",
    "    sentence_preprocess = opt.split(' ')\n",
    "    for i in bag_of_words:\n",
    "        if i in sentence_preprocess:\n",
    "            exit_array.append(1)\n",
    "        else:\n",
    "            exit_array.append(0)\n",
    "    return exit_array\n",
    "\n",
    "print(get_array_from_text('Казнить нельзя, помиловать.'))\n",
    "print(get_array_from_text('Казнить, нельзя помиловать.'))\n",
    "print(get_array_from_text('Нельзя не помиловать.'))\n",
    "print(get_array_from_text('Обязательно освободить.'))"
   ]
  },
  {
   "cell_type": "markdown",
   "id": "employed-science",
   "metadata": {},
   "source": [
    "**1.5.7** <br>\n",
    "Выпишите все символьные N-граммы для N={2, 3} для слова \"язык\"."
   ]
  },
  {
   "cell_type": "code",
   "execution_count": 5,
   "id": "little-initial",
   "metadata": {},
   "outputs": [
    {
     "name": "stdout",
     "output_type": "stream",
     "text": [
      "яз зы ык язы зык \n"
     ]
    }
   ],
   "source": [
    "data = 'язык'\n",
    "gram = ''\n",
    "for i in range(2,4):\n",
    "    for j in range(len(data)-i+1):\n",
    "        gram += data[j:j+i]+' '\n",
    "print(gram)"
   ]
  },
  {
   "cell_type": "code",
   "execution_count": null,
   "id": "adverse-encounter",
   "metadata": {},
   "outputs": [],
   "source": []
  }
 ],
 "metadata": {
  "kernelspec": {
   "display_name": "Python 3",
   "language": "python",
   "name": "python3"
  },
  "language_info": {
   "codemirror_mode": {
    "name": "ipython",
    "version": 3
   },
   "file_extension": ".py",
   "mimetype": "text/x-python",
   "name": "python",
   "nbconvert_exporter": "python",
   "pygments_lexer": "ipython3",
   "version": "3.7.4"
  }
 },
 "nbformat": 4,
 "nbformat_minor": 5
}
