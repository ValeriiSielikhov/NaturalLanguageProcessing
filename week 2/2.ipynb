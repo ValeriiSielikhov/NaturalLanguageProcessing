{
 "cells": [
  {
   "cell_type": "markdown",
   "id": "balanced-rings",
   "metadata": {},
   "source": [
    "**2.1.4**"
   ]
  },
  {
   "cell_type": "code",
   "execution_count": 1,
   "id": "extensive-repair",
   "metadata": {},
   "outputs": [
    {
     "name": "stdout",
     "output_type": "stream",
     "text": [
      "0.735 0.184 0.082\n"
     ]
    }
   ],
   "source": [
    "def f(rank, s=2, N=3):\n",
    "    return 1/(rank**s*sum(i**-2 for i in range(1, N + 1)))\n",
    "\n",
    "\n",
    "print(*[round(f(i), 3) for i in range(1, 4)], sep=' ')"
   ]
  },
  {
   "cell_type": "markdown",
   "id": "breathing-harvey",
   "metadata": {},
   "source": [
    "**2.2.5**\n"
   ]
  },
  {
   "cell_type": "code",
   "execution_count": 3,
   "id": "temporal-heavy",
   "metadata": {},
   "outputs": [
    {
     "name": "stdout",
     "output_type": "stream",
     "text": [
      "0.8085580320712731 4.615220521841592\n",
      "4.615220521841592 1.3862943611198906\n",
      "1.3862943611198906 4.615220521841592\n",
      "0.8085580320712731 0.8615658321849085\n",
      "4.615220521841592 0.8085580320712731\n"
     ]
    }
   ],
   "source": [
    "from math import log\n",
    "\n",
    "\n",
    "def TBCE(y_pred, y_true=(1, 1)):\n",
    "    r = 0\n",
    "    for i in range(len(y_true)):\n",
    "        r+=BCE(y_pred[i], y_true[i])\n",
    "    return r\n",
    "\n",
    "\n",
    "def BCE(y_hat, y):\n",
    "    result = -y*log(y_hat)-(1-y)*log(1-y_hat)\n",
    "    return result\n",
    "\n",
    "print(TBCE([0.99, 0.45]), TBCE([0.99, 0.01]))\n",
    "print(TBCE([0.99, 0.01]), TBCE([0.5,0.5]))\n",
    "print(TBCE([0.5,0.5]), TBCE([0.99, 0.01]))\n",
    "print(TBCE([0.99,0.45]), TBCE([0.65,0.65]) )\n",
    "print(TBCE([0.99, 0.01]), TBCE([0.99, 0.45]))"
   ]
  },
  {
   "cell_type": "markdown",
   "id": "worldwide-detroit",
   "metadata": {},
   "source": [
    "**2.3.2**"
   ]
  },
  {
   "cell_type": "code",
   "execution_count": 4,
   "id": "interested-member",
   "metadata": {},
   "outputs": [
    {
     "name": "stdout",
     "output_type": "stream",
     "text": [
      "x*(-y*exp(-b - w*x) - y + 1)/(exp(-b - w*x) + 1)\n"
     ]
    }
   ],
   "source": [
    "from sympy import *\n",
    "x, y, w, b = symbols('x y w b')\n",
    "y_hat = 1/(1+exp(-w*x-b))\n",
    "eq = -y*log(y_hat)-(1-y)*log(1-y_hat)\n",
    "print(diff(eq, w).simplify())"
   ]
  },
  {
   "cell_type": "markdown",
   "id": "distinct-hampshire",
   "metadata": {},
   "source": [
    "**2.3.3**"
   ]
  },
  {
   "cell_type": "code",
   "execution_count": 7,
   "id": "insured-growing",
   "metadata": {},
   "outputs": [
    {
     "name": "stdout",
     "output_type": "stream",
     "text": [
      "(-y*exp(-b - w*x) - y + 1)/(exp(-b - w*x) + 1)\n"
     ]
    }
   ],
   "source": [
    "from sympy import *\n",
    "x, y, w, b = symbols('x y w b')\n",
    "y_hat = 1/(1+exp(-w*x-b))\n",
    "eq = -y*log(y_hat)-(1-y)*log(1-y_hat)\n",
    "print(diff(eq, b).simplify())"
   ]
  },
  {
   "cell_type": "markdown",
   "id": "fiscal-reservation",
   "metadata": {},
   "source": [
    "**2.3.4**"
   ]
  },
  {
   "cell_type": "code",
   "execution_count": 8,
   "id": "rotary-ireland",
   "metadata": {},
   "outputs": [
    {
     "data": {
      "text/latex": [
       "$\\displaystyle \\frac{2 c w \\left(e^{- b - w x} + 1\\right) - x y e^{- b - w x} - x \\left(y - 1\\right)}{e^{- b - w x} + 1}$"
      ],
      "text/plain": [
       "(2*c*w*(exp(-b - w*x) + 1) - x*y*exp(-b - w*x) - x*(y - 1))/(exp(-b - w*x) + 1)"
      ]
     },
     "execution_count": 8,
     "metadata": {},
     "output_type": "execute_result"
    }
   ],
   "source": [
    "from sympy import symbols, exp, log, diff\n",
    "w,y,b,x, c = symbols('w y b x c')\n",
    "diff(-y*log(1/(1+exp(-w*x-b)))-(1-y)*log(1-1/(1+exp(-w*x-b)))+c*(w**2+b**2), w).simplify()"
   ]
  },
  {
   "cell_type": "markdown",
   "id": "requested-footage",
   "metadata": {},
   "source": [
    "**2.3.7**"
   ]
  },
  {
   "cell_type": "markdown",
   "id": "national-authorization",
   "metadata": {},
   "source": [
    "Напишите функцию для вычисления точечной взаимной информации двух случайных событий."
   ]
  },
  {
   "cell_type": "code",
   "execution_count": 11,
   "id": "dense-pattern",
   "metadata": {},
   "outputs": [
    {
     "name": "stdout",
     "output_type": "stream",
     "text": [
      "0.693147\n"
     ]
    }
   ],
   "source": [
    "import sys\n",
    "import numpy as np\n",
    "\n",
    "\n",
    "def calculate_pmi(a, b):\n",
    "    return np.log(np.mean(a*b)/np.mean(a)/np.mean(b))  # ваше решение\n",
    "\n",
    "a = np.array([1, 0, 0, 1, 1, 0])\n",
    "b = np.array([1, 0, 0, 0, 0, 0])\n",
    "pmi_value = calculate_pmi(a, b)\n",
    "\n",
    "print('{:.6f}'.format(pmi_value))"
   ]
  },
  {
   "cell_type": "markdown",
   "id": "drawn-guard",
   "metadata": {},
   "source": [
    "**2.3.8**"
   ]
  },
  {
   "cell_type": "markdown",
   "id": "broken-agenda",
   "metadata": {},
   "source": [
    "Найдите количество слов, которые встречаются менее, чем в 10 из 10000 документов, если предполагать, что вероятность встретить слово в документе распределена по Ципфу с параметром s = 2, количество слов в словаре N = 1000. Ранги нумеруются с 1."
   ]
  },
  {
   "cell_type": "code",
   "execution_count": 12,
   "id": "macro-catholic",
   "metadata": {},
   "outputs": [
    {
     "data": {
      "text/plain": [
       "976"
      ]
     },
     "execution_count": 12,
     "metadata": {},
     "output_type": "execute_result"
    }
   ],
   "source": [
    "Z = sum([i**(-2) for i in range(1,1001)])\n",
    "len([1/(Z*i**(2)) for i in range(1,1001) if 1/(Z*i**(2))<0.001 ])"
   ]
  },
  {
   "cell_type": "markdown",
   "id": "gross-diesel",
   "metadata": {},
   "source": [
    "**2.4.3**"
   ]
  },
  {
   "cell_type": "code",
   "execution_count": 1,
   "id": "dynamic-completion",
   "metadata": {},
   "outputs": [],
   "source": [
    "import re\n",
    "import sys\n",
    "\n",
    "\n",
    "TOKENIZE_RE = re.compile(r'[а-яё]+|[+-]?\\d*[.,]?\\d+|\\S', re.I)\n",
    "\n",
    "\n",
    "def tokenize(txt):\n",
    "    return TOKENIZE_RE.findall(txt)\n",
    "\n",
    "\n",
    "for line in sys.stdin:\n",
    "    print(' '.join(tokenize(line.strip().lower())))"
   ]
  },
  {
   "cell_type": "markdown",
   "id": "precise-campbell",
   "metadata": {},
   "source": [
    "**2.4.5**"
   ]
  },
  {
   "cell_type": "code",
   "execution_count": 2,
   "id": "balanced-halloween",
   "metadata": {},
   "outputs": [
    {
     "name": "stdout",
     "output_type": "stream",
     "text": [
      "наказывать не обязательно казнить освободить нельзя помиловать\n",
      "0.25 0.25 0.25 0.5 0.5 0.75 0.75\n"
     ]
    }
   ],
   "source": [
    "from collections import Counter\n",
    "import pandas as pd\n",
    "import re\n",
    "\n",
    "corpus = ['Казнить нельзя, помиловать. Нельзя наказывать.',\n",
    "         'Казнить, нельзя помиловать. Нельзя освободить.',\n",
    "         'Нельзя не помиловать.',\n",
    "         'Обязательно освободить.']\n",
    "TOKENIZE_RE = re.compile(r'[\\w\\d]+')\n",
    "\n",
    "corpus = pd.Series(corpus).str.lower().apply(TOKENIZE_RE.findall)\n",
    "corpus_counts = corpus.apply(Counter).apply(pd.Series).fillna(0).astype(int)\n",
    "word_counts = (corpus_counts > 0).sum(0).sort_index().sort_values()\n",
    "\n",
    "word2freq = word_counts / corpus.size\n",
    "word2id = pd.Series(range(word2freq.size), index=word2freq.index)\n",
    "\n",
    "print(*word2freq.index)\n",
    "print(*word2freq.round(2))"
   ]
  },
  {
   "cell_type": "markdown",
   "id": "mechanical-chest",
   "metadata": {},
   "source": [
    "**2.4.7**"
   ]
  },
  {
   "cell_type": "code",
   "execution_count": 4,
   "id": "based-buffer",
   "metadata": {},
   "outputs": [
    {
     "name": "stdout",
     "output_type": "stream",
     "text": [
      "1.5 -0.5 -0.5 0.87 -0.76 0.6 0.16\n",
      "-0.5 -0.5 -0.5 0.87 0.18 0.6 0.16\n",
      "-0.5 1.5 -0.5 -0.87 -0.76 0.29 1.04\n",
      "-0.5 -0.5 1.5 -0.87 1.34 -1.48 -1.36\n"
     ]
    }
   ],
   "source": [
    "from collections import Counter\n",
    "import pandas as pd\n",
    "import re\n",
    "\n",
    "corpus = ['Казнить нельзя, помиловать. Нельзя наказывать.',\n",
    "         'Казнить, нельзя помиловать. Нельзя освободить.',\n",
    "         'Нельзя не помиловать.',\n",
    "         'Обязательно освободить.']\n",
    "TOKENIZE_RE = re.compile(r'[\\w\\d]+')\n",
    "\n",
    "corpus = pd.Series(corpus).str.lower().apply(TOKENIZE_RE.findall)\n",
    "corpus_counts = corpus.apply(Counter).apply(pd.Series).fillna(0).astype(int)\n",
    "word2freq = (corpus_counts > 0).mean(0).sort_index().sort_values()\n",
    "\n",
    "\n",
    "import numpy as np\n",
    "\n",
    "TF = (corpus_counts[word2freq.index].T / corpus.apply(len)).T\n",
    "lTFIDF = np.log(TF + 1) / word2freq\n",
    "feature_matrix  = (lTFIDF - lTFIDF.mean()) / lTFIDF.std(0, ddof=1)\n",
    "\n",
    "for doc in feature_matrix.round(2).values:\n",
    "    print(*doc)"
   ]
  },
  {
   "cell_type": "code",
   "execution_count": null,
   "id": "plain-connection",
   "metadata": {},
   "outputs": [],
   "source": []
  }
 ],
 "metadata": {
  "kernelspec": {
   "display_name": "Python 3",
   "language": "python",
   "name": "python3"
  },
  "language_info": {
   "codemirror_mode": {
    "name": "ipython",
    "version": 3
   },
   "file_extension": ".py",
   "mimetype": "text/x-python",
   "name": "python",
   "nbconvert_exporter": "python",
   "pygments_lexer": "ipython3",
   "version": "3.7.4"
  }
 },
 "nbformat": 4,
 "nbformat_minor": 5
}
